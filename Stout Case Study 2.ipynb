{
 "cells": [
  {
   "cell_type": "code",
   "execution_count": 65,
   "id": "b445e756",
   "metadata": {},
   "outputs": [],
   "source": [
    "import pandas as pd\n",
    "import numpy as np\n",
    "import matplotlib.pyplot as plt\n",
    "import seaborn as sns"
   ]
  },
  {
   "cell_type": "code",
   "execution_count": 37,
   "id": "b6591ce2",
   "metadata": {},
   "outputs": [],
   "source": [
    "df = pd.read_csv('casestudy.csv')"
   ]
  },
  {
   "cell_type": "code",
   "execution_count": 38,
   "id": "666cc34f",
   "metadata": {},
   "outputs": [],
   "source": [
    "df_year2015 = df[df['year']==2015]\n",
    "df_year2016 = df[df['year']==2016]\n",
    "df_year2017 = df[df['year']==2017]"
   ]
  },
  {
   "cell_type": "code",
   "execution_count": 39,
   "id": "b6613403",
   "metadata": {},
   "outputs": [
    {
     "data": {
      "text/html": [
       "<div>\n",
       "<style scoped>\n",
       "    .dataframe tbody tr th:only-of-type {\n",
       "        vertical-align: middle;\n",
       "    }\n",
       "\n",
       "    .dataframe tbody tr th {\n",
       "        vertical-align: top;\n",
       "    }\n",
       "\n",
       "    .dataframe thead th {\n",
       "        text-align: right;\n",
       "    }\n",
       "</style>\n",
       "<table border=\"1\" class=\"dataframe\">\n",
       "  <thead>\n",
       "    <tr style=\"text-align: right;\">\n",
       "      <th></th>\n",
       "      <th>ID</th>\n",
       "      <th>customer_email</th>\n",
       "      <th>net_revenue</th>\n",
       "      <th>year</th>\n",
       "    </tr>\n",
       "  </thead>\n",
       "  <tbody>\n",
       "    <tr>\n",
       "      <th>435940</th>\n",
       "      <td>435940</td>\n",
       "      <td>mwrossuukz@gmail.com</td>\n",
       "      <td>96.61</td>\n",
       "      <td>2017</td>\n",
       "    </tr>\n",
       "    <tr>\n",
       "      <th>435941</th>\n",
       "      <td>435941</td>\n",
       "      <td>qvjfterwnk@gmail.com</td>\n",
       "      <td>176.00</td>\n",
       "      <td>2017</td>\n",
       "    </tr>\n",
       "    <tr>\n",
       "      <th>435942</th>\n",
       "      <td>435942</td>\n",
       "      <td>vlyigtgfzs@gmail.com</td>\n",
       "      <td>73.47</td>\n",
       "      <td>2017</td>\n",
       "    </tr>\n",
       "    <tr>\n",
       "      <th>435943</th>\n",
       "      <td>435943</td>\n",
       "      <td>yfirychuhk@gmail.com</td>\n",
       "      <td>138.17</td>\n",
       "      <td>2017</td>\n",
       "    </tr>\n",
       "    <tr>\n",
       "      <th>435944</th>\n",
       "      <td>435944</td>\n",
       "      <td>fdkiioqtli@gmail.com</td>\n",
       "      <td>156.87</td>\n",
       "      <td>2017</td>\n",
       "    </tr>\n",
       "    <tr>\n",
       "      <th>...</th>\n",
       "      <td>...</td>\n",
       "      <td>...</td>\n",
       "      <td>...</td>\n",
       "      <td>...</td>\n",
       "    </tr>\n",
       "    <tr>\n",
       "      <th>685922</th>\n",
       "      <td>685922</td>\n",
       "      <td>qzqttwiftu@gmail.com</td>\n",
       "      <td>184.58</td>\n",
       "      <td>2017</td>\n",
       "    </tr>\n",
       "    <tr>\n",
       "      <th>685923</th>\n",
       "      <td>685923</td>\n",
       "      <td>pjodiifjop@gmail.com</td>\n",
       "      <td>133.03</td>\n",
       "      <td>2017</td>\n",
       "    </tr>\n",
       "    <tr>\n",
       "      <th>685924</th>\n",
       "      <td>685924</td>\n",
       "      <td>appaplmgko@gmail.com</td>\n",
       "      <td>200.98</td>\n",
       "      <td>2017</td>\n",
       "    </tr>\n",
       "    <tr>\n",
       "      <th>685925</th>\n",
       "      <td>685925</td>\n",
       "      <td>wvkpmwsgck@gmail.com</td>\n",
       "      <td>235.35</td>\n",
       "      <td>2017</td>\n",
       "    </tr>\n",
       "    <tr>\n",
       "      <th>685926</th>\n",
       "      <td>685926</td>\n",
       "      <td>aregboumbw@gmail.com</td>\n",
       "      <td>208.43</td>\n",
       "      <td>2017</td>\n",
       "    </tr>\n",
       "  </tbody>\n",
       "</table>\n",
       "<p>249987 rows × 4 columns</p>\n",
       "</div>"
      ],
      "text/plain": [
       "            ID         customer_email  net_revenue  year\n",
       "435940  435940   mwrossuukz@gmail.com        96.61  2017\n",
       "435941  435941  qvjfterwnk@gmail.com        176.00  2017\n",
       "435942  435942   vlyigtgfzs@gmail.com        73.47  2017\n",
       "435943  435943   yfirychuhk@gmail.com       138.17  2017\n",
       "435944  435944   fdkiioqtli@gmail.com       156.87  2017\n",
       "...        ...                    ...          ...   ...\n",
       "685922  685922   qzqttwiftu@gmail.com       184.58  2017\n",
       "685923  685923   pjodiifjop@gmail.com       133.03  2017\n",
       "685924  685924   appaplmgko@gmail.com       200.98  2017\n",
       "685925  685925   wvkpmwsgck@gmail.com       235.35  2017\n",
       "685926  685926   aregboumbw@gmail.com       208.43  2017\n",
       "\n",
       "[249987 rows x 4 columns]"
      ]
     },
     "execution_count": 39,
     "metadata": {},
     "output_type": "execute_result"
    }
   ],
   "source": [
    "df_year2017"
   ]
  },
  {
   "cell_type": "code",
   "execution_count": 40,
   "id": "7600a5e6",
   "metadata": {},
   "outputs": [],
   "source": [
    "Revenue2015 = df_year2015['net_revenue'].sum()\n",
    "Revenue2016 = df_year2016['net_revenue'].sum()\n",
    "Revenue2017 = df_year2017['net_revenue'].sum()"
   ]
  },
  {
   "cell_type": "code",
   "execution_count": 41,
   "id": "a04aff48",
   "metadata": {},
   "outputs": [
    {
     "name": "stdout",
     "output_type": "stream",
     "text": [
      "Revenue in 2015: 29036749.189999994\n",
      "Revenue in 2016: 25730943.59\n",
      "Revenue in 2017: 31417495.030000016\n"
     ]
    }
   ],
   "source": [
    "print(\"Revenue in 2015:\", Revenue2015)\n",
    "print(\"Revenue in 2016:\", Revenue2016)\n",
    "print(\"Revenue in 2017:\", Revenue2017)"
   ]
  },
  {
   "cell_type": "code",
   "execution_count": 42,
   "id": "77b358f1",
   "metadata": {},
   "outputs": [],
   "source": [
    "df_new2016 = pd.merge(df_year2015, df_year2016, on='customer_email', how='outer',indicator=True)\n",
    "df_new2016 = df_new2016[df_new2016['year_y']==2016]\n",
    "df_new2016 = df_new2016[df_new2016['year_x'].isna()]\n",
    "NewCustomer_Revenue_2016 = df_new2016['net_revenue_y'].sum()"
   ]
  },
  {
   "cell_type": "code",
   "execution_count": 43,
   "id": "c8c15ec3",
   "metadata": {},
   "outputs": [
    {
     "name": "stdout",
     "output_type": "stream",
     "text": [
      "Revenue of New Customers in 2016: 18245491.01\n"
     ]
    }
   ],
   "source": [
    "print(\"Revenue of New Customers in 2016:\",NewCustomer_Revenue_2016)"
   ]
  },
  {
   "cell_type": "code",
   "execution_count": 44,
   "id": "e0eff42b",
   "metadata": {},
   "outputs": [],
   "source": [
    "df_new2017 = pd.merge(df_year2016, df_year2017, on='customer_email', how='outer',indicator=True)\n",
    "df_new2017 = df_new2017[df_new2017['year_y']==2017]\n",
    "df_new2017 = df_new2017[df_new2017['year_x'].isna()]\n",
    "NewCustomer_Revenue_2017 = df_new2017['net_revenue_y'].sum()"
   ]
  },
  {
   "cell_type": "code",
   "execution_count": 45,
   "id": "743702f0",
   "metadata": {},
   "outputs": [
    {
     "name": "stdout",
     "output_type": "stream",
     "text": [
      "Revenue of New Customers in 2017: 28776235.039999995\n"
     ]
    }
   ],
   "source": [
    "print(\"Revenue of New Customers in 2017:\",NewCustomer_Revenue_2017)"
   ]
  },
  {
   "cell_type": "code",
   "execution_count": 46,
   "id": "13700be9",
   "metadata": {},
   "outputs": [],
   "source": [
    "df_new2017 = pd.merge(df_year2016, df_year2017, on='customer_email', how='outer',indicator=True)"
   ]
  },
  {
   "cell_type": "code",
   "execution_count": 47,
   "id": "98abd0bc",
   "metadata": {},
   "outputs": [],
   "source": [
    "df_new2017 = df_new2017[df_new2017['_merge']=='both']"
   ]
  },
  {
   "cell_type": "code",
   "execution_count": 48,
   "id": "d17b24c9",
   "metadata": {},
   "outputs": [],
   "source": [
    "df_existingdiff2017 = pd.DataFrame(columns=['customer_email','net_growth'])\n",
    "df_existingdiff2017['net_growth'] = df_new2017['net_revenue_y'] - df_new2017['net_revenue_x']\n",
    "df_existingdiff2017['customer_email'] = df_new2017['customer_email']"
   ]
  },
  {
   "cell_type": "code",
   "execution_count": 49,
   "id": "9e307b11",
   "metadata": {},
   "outputs": [
    {
     "name": "stdout",
     "output_type": "stream",
     "text": [
      "Exisiting customer growth in 2017               customer_email  net_growth\n",
      "7       yixtbjnxce@gmail.com      -67.46\n",
      "13      gwqjyelgct@gmail.com      149.48\n",
      "16      hxshgpdxtr@gmail.com      -39.25\n",
      "28      gipqsrvngd@gmail.com       16.84\n",
      "37      cdvwonzpwu@gmail.com      -37.97\n",
      "...                      ...         ...\n",
      "204622  flkeldljhv@gmail.com      -31.67\n",
      "204628  ecrvkbfunu@gmail.com      -25.07\n",
      "204631  tpdtoiokyt@gmail.com      237.03\n",
      "204640  dcakqgznnm@gmail.com      -83.81\n",
      "204643  fkweqlmmjw@gmail.com      -57.93\n",
      "\n",
      "[20959 rows x 2 columns]\n"
     ]
    }
   ],
   "source": [
    "print(\"Exisiting customer growth in 2017\", df_existingdiff2017)"
   ]
  },
  {
   "cell_type": "code",
   "execution_count": 50,
   "id": "80485c29",
   "metadata": {},
   "outputs": [],
   "source": [
    "df_new2016 = pd.merge(df_year2015, df_year2016, on='customer_email', how='outer',indicator=True)\n",
    "df_new2016 = df_new2016[df_new2016['_merge']=='both']\n"
   ]
  },
  {
   "cell_type": "code",
   "execution_count": 51,
   "id": "49b652de",
   "metadata": {},
   "outputs": [],
   "source": [
    "df_existingdiff2016 = pd.DataFrame(columns=['customer_email','net_growth'])\n",
    "df_existingdiff2016['net_growth'] = df_new2016['net_revenue_y'] - df_new2016['net_revenue_x']\n",
    "df_existingdiff2016['customer_email'] = df_new2016['customer_email']"
   ]
  },
  {
   "cell_type": "code",
   "execution_count": 52,
   "id": "b67bb4e5",
   "metadata": {
    "scrolled": true
   },
   "outputs": [
    {
     "name": "stdout",
     "output_type": "stream",
     "text": [
      "Exisiting customer growth in 2016                customer_email  net_growth\n",
      "8        baiikostmd@gmail.com      -28.13\n",
      "9        lfeafnigbu@gmail.com      -19.93\n",
      "15       tqxsjlgjpi@gmail.com      -74.21\n",
      "16       hxshgpdxtr@gmail.com       36.76\n",
      "24       zvhsssvgor@gmail.com       22.29\n",
      "...                       ...         ...\n",
      "204631   tpdtoiokyt@gmail.com      -77.28\n",
      "204633   yeserbsmyf@gmail.com       37.12\n",
      "204636   nyunstvnpc@gmail.com       -6.41\n",
      "204641   mezrjfkced@gmail.com       -4.02\n",
      "204645   kxqglfdktu@gmail.com      -36.01\n",
      "\n",
      "[59584 rows x 2 columns]\n"
     ]
    }
   ],
   "source": [
    "print(\"Exisiting customer growth in 2016\", df_existingdiff2016)"
   ]
  },
  {
   "cell_type": "code",
   "execution_count": 53,
   "id": "10daa73e",
   "metadata": {},
   "outputs": [],
   "source": [
    "Revenue_attrition2017 = df_existingdiff2017['net_growth'].sum()\n",
    "Revenue_attrition2016 = df_existingdiff2016['net_growth'].sum()"
   ]
  },
  {
   "cell_type": "code",
   "execution_count": 54,
   "id": "9bd6f01c",
   "metadata": {},
   "outputs": [
    {
     "name": "stdout",
     "output_type": "stream",
     "text": [
      "Revenue lost from attrition in 2017: 20611.340000000004\n",
      "Revenue lost from attrition in 2016: 20335.459999999985\n"
     ]
    }
   ],
   "source": [
    "print(\"Revenue lost from attrition in 2017:\", Revenue_attrition2017)\n",
    "print(\"Revenue lost from attrition in 2016:\", Revenue_attrition2016)"
   ]
  },
  {
   "cell_type": "code",
   "execution_count": 55,
   "id": "33bf6c89",
   "metadata": {},
   "outputs": [],
   "source": [
    "Ex_custrev_2017 = df_new2017['net_revenue_y'].sum()\n",
    "Ex_custrev_2016 = df_new2017['net_revenue_x'].sum()"
   ]
  },
  {
   "cell_type": "code",
   "execution_count": 56,
   "id": "0ddb307b",
   "metadata": {},
   "outputs": [
    {
     "name": "stdout",
     "output_type": "stream",
     "text": [
      "Revenue in 2017(Current Year): 2641259.99\n",
      "Revenue in 2016(Previous Year): 2620648.65\n"
     ]
    }
   ],
   "source": [
    "print(\"Revenue in 2017(Current Year):\", Ex_custrev_2017)\n",
    "print(\"Revenue in 2016(Previous Year):\", Ex_custrev_2016)"
   ]
  },
  {
   "cell_type": "code",
   "execution_count": 57,
   "id": "d6a61194",
   "metadata": {},
   "outputs": [],
   "source": [
    "Ex_custrev_2016 = df_new2016['net_revenue_y'].sum()\n",
    "Ex_custrev_2015 = df_new2016['net_revenue_x'].sum()"
   ]
  },
  {
   "cell_type": "code",
   "execution_count": 58,
   "id": "8426deb5",
   "metadata": {},
   "outputs": [
    {
     "name": "stdout",
     "output_type": "stream",
     "text": [
      "Revenue in 2016(Current Year): 7485452.58\n",
      "Revenue in 2015(Previous Year): 7465117.12\n"
     ]
    }
   ],
   "source": [
    "print(\"Revenue in 2016(Current Year):\", Ex_custrev_2016)\n",
    "print(\"Revenue in 2015(Previous Year):\", Ex_custrev_2015)"
   ]
  },
  {
   "cell_type": "code",
   "execution_count": 59,
   "id": "59910ee0",
   "metadata": {},
   "outputs": [
    {
     "name": "stdout",
     "output_type": "stream",
     "text": [
      "Total Customers in 2017: 249987\n",
      "Total Customers in 2016: 204646\n",
      "Total Customers in 2015: 231294\n"
     ]
    }
   ],
   "source": [
    "print(\"Total Customers in 2017:\", len(df_year2017))\n",
    "print(\"Total Customers in 2016:\", len(df_year2016))\n",
    "print(\"Total Customers in 2015:\", len(df_year2015))"
   ]
  },
  {
   "cell_type": "code",
   "execution_count": 60,
   "id": "c434b742",
   "metadata": {},
   "outputs": [],
   "source": [
    "df_custlist2017 = pd.merge(df_year2016, df_year2017, on='customer_email', how='outer',indicator=True)\n",
    "df_custlist2016 = pd.merge(df_year2015, df_year2016, on='customer_email', how='outer',indicator=True)"
   ]
  },
  {
   "cell_type": "code",
   "execution_count": 61,
   "id": "93f9336d",
   "metadata": {},
   "outputs": [],
   "source": [
    "df_newcust2017 = df_custlist2017[df_custlist2017['_merge']=='right_only']\n",
    "df_lostcust2017 = df_custlist2017[df_custlist2017['_merge']=='left_only']"
   ]
  },
  {
   "cell_type": "code",
   "execution_count": 62,
   "id": "2df63976",
   "metadata": {},
   "outputs": [
    {
     "name": "stdout",
     "output_type": "stream",
     "text": [
      "New Customers in 2017 204646     mwrossuukz@gmail.com\n",
      "204647    qvjfterwnk@gmail.com \n",
      "204648     vlyigtgfzs@gmail.com\n",
      "204649     yfirychuhk@gmail.com\n",
      "204650     fdkiioqtli@gmail.com\n",
      "                  ...          \n",
      "433669     qzqttwiftu@gmail.com\n",
      "433670     pjodiifjop@gmail.com\n",
      "433671     appaplmgko@gmail.com\n",
      "433672     wvkpmwsgck@gmail.com\n",
      "433673     aregboumbw@gmail.com\n",
      "Name: customer_email, Length: 229028, dtype: object\n",
      "Lost Customers in 2017 0          mwrossuukz@gmail.com\n",
      "1          gkwsoupawk@gmail.com\n",
      "2          vlyigtgfzs@gmail.com\n",
      "3          yfirychuhk@gmail.com\n",
      "4          trnzgqinuu@gmail.com\n",
      "                  ...          \n",
      "204639     sqodpufunf@gmail.com\n",
      "204641     mezrjfkced@gmail.com\n",
      "204642     rdotspqdxi@gmail.com\n",
      "204644     pidugzoeej@gmail.com\n",
      "204645     kxqglfdktu@gmail.com\n",
      "Name: customer_email, Length: 183687, dtype: object\n"
     ]
    }
   ],
   "source": [
    "print(\"New Customers in 2017\", df_newcust2017['customer_email'])\n",
    "print(\"Lost Customers in 2017\",df_lostcust2017['customer_email'])"
   ]
  },
  {
   "cell_type": "code",
   "execution_count": 63,
   "id": "1270a97c",
   "metadata": {},
   "outputs": [],
   "source": [
    "df_newcust2016 = df_custlist2016[df_custlist2016['_merge']=='right_only']\n",
    "df_lostcust2016 = df_custlist2016[df_custlist2016['_merge']=='left_only']"
   ]
  },
  {
   "cell_type": "code",
   "execution_count": 64,
   "id": "fad3f45e",
   "metadata": {
    "scrolled": true
   },
   "outputs": [
    {
     "name": "stdout",
     "output_type": "stream",
     "text": [
      "New Customers in 2016 231294     mwrossuukz@gmail.com\n",
      "231295     gkwsoupawk@gmail.com\n",
      "231296     vlyigtgfzs@gmail.com\n",
      "231297     yfirychuhk@gmail.com\n",
      "231298     trnzgqinuu@gmail.com\n",
      "                  ...          \n",
      "376351     sqodpufunf@gmail.com\n",
      "376352     dcakqgznnm@gmail.com\n",
      "376353     rdotspqdxi@gmail.com\n",
      "376354     fkweqlmmjw@gmail.com\n",
      "376355     pidugzoeej@gmail.com\n",
      "Name: customer_email, Length: 145062, dtype: object\n",
      "Lost Customers in 2016 0          nhknapwsbx@gmail.com\n",
      "1          joiuzbvcpn@gmail.com\n",
      "2          ukkjctepxt@gmail.com\n",
      "3          gykatilzrt@gmail.com\n",
      "4          mmsgsrtxah@gmail.com\n",
      "                  ...          \n",
      "231289     xtrpmgjbwp@gmail.com\n",
      "231290     peeorxpsbr@gmail.com\n",
      "231291     vanasezjpw@gmail.com\n",
      "231292     dnpremlztb@gmail.com\n",
      "231293     qsgswrpycl@gmail.com\n",
      "Name: customer_email, Length: 171710, dtype: object\n"
     ]
    }
   ],
   "source": [
    "print(\"New Customers in 2016\", df_newcust2016['customer_email'])\n",
    "print(\"Lost Customers in 2016\",df_lostcust2016['customer_email'])"
   ]
  },
  {
   "cell_type": "code",
   "execution_count": 88,
   "id": "3b00db81",
   "metadata": {},
   "outputs": [],
   "source": [
    "Revenue = [Revenue2015,Revenue2016,Revenue2017]\n",
    "RevenueYear = ['2015', '2016', '2017']"
   ]
  },
  {
   "cell_type": "code",
   "execution_count": 13,
   "id": "a8d0fdc4",
   "metadata": {},
   "outputs": [
    {
     "data": {
      "text/html": [
       "<div>\n",
       "<style scoped>\n",
       "    .dataframe tbody tr th:only-of-type {\n",
       "        vertical-align: middle;\n",
       "    }\n",
       "\n",
       "    .dataframe tbody tr th {\n",
       "        vertical-align: top;\n",
       "    }\n",
       "\n",
       "    .dataframe thead th {\n",
       "        text-align: right;\n",
       "    }\n",
       "</style>\n",
       "<table border=\"1\" class=\"dataframe\">\n",
       "  <thead>\n",
       "    <tr style=\"text-align: right;\">\n",
       "      <th></th>\n",
       "      <th>ID_x</th>\n",
       "      <th>customer_email</th>\n",
       "      <th>net_revenue_x</th>\n",
       "      <th>year_x</th>\n",
       "      <th>ID_y</th>\n",
       "      <th>net_revenue_y</th>\n",
       "      <th>year_y</th>\n",
       "      <th>_merge</th>\n",
       "    </tr>\n",
       "  </thead>\n",
       "  <tbody>\n",
       "    <tr>\n",
       "      <th>7</th>\n",
       "      <td>231301.0</td>\n",
       "      <td>yixtbjnxce@gmail.com</td>\n",
       "      <td>201.32</td>\n",
       "      <td>2016.0</td>\n",
       "      <td>435947.0</td>\n",
       "      <td>133.86</td>\n",
       "      <td>2017.0</td>\n",
       "      <td>both</td>\n",
       "    </tr>\n",
       "    <tr>\n",
       "      <th>13</th>\n",
       "      <td>231307.0</td>\n",
       "      <td>gwqjyelgct@gmail.com</td>\n",
       "      <td>14.62</td>\n",
       "      <td>2016.0</td>\n",
       "      <td>435953.0</td>\n",
       "      <td>164.10</td>\n",
       "      <td>2017.0</td>\n",
       "      <td>both</td>\n",
       "    </tr>\n",
       "    <tr>\n",
       "      <th>16</th>\n",
       "      <td>231310.0</td>\n",
       "      <td>hxshgpdxtr@gmail.com</td>\n",
       "      <td>217.35</td>\n",
       "      <td>2016.0</td>\n",
       "      <td>435956.0</td>\n",
       "      <td>178.10</td>\n",
       "      <td>2017.0</td>\n",
       "      <td>both</td>\n",
       "    </tr>\n",
       "    <tr>\n",
       "      <th>28</th>\n",
       "      <td>231322.0</td>\n",
       "      <td>gipqsrvngd@gmail.com</td>\n",
       "      <td>156.06</td>\n",
       "      <td>2016.0</td>\n",
       "      <td>435968.0</td>\n",
       "      <td>172.90</td>\n",
       "      <td>2017.0</td>\n",
       "      <td>both</td>\n",
       "    </tr>\n",
       "    <tr>\n",
       "      <th>37</th>\n",
       "      <td>231331.0</td>\n",
       "      <td>cdvwonzpwu@gmail.com</td>\n",
       "      <td>140.43</td>\n",
       "      <td>2016.0</td>\n",
       "      <td>435977.0</td>\n",
       "      <td>102.46</td>\n",
       "      <td>2017.0</td>\n",
       "      <td>both</td>\n",
       "    </tr>\n",
       "    <tr>\n",
       "      <th>...</th>\n",
       "      <td>...</td>\n",
       "      <td>...</td>\n",
       "      <td>...</td>\n",
       "      <td>...</td>\n",
       "      <td>...</td>\n",
       "      <td>...</td>\n",
       "      <td>...</td>\n",
       "      <td>...</td>\n",
       "    </tr>\n",
       "    <tr>\n",
       "      <th>204622</th>\n",
       "      <td>435916.0</td>\n",
       "      <td>flkeldljhv@gmail.com</td>\n",
       "      <td>211.68</td>\n",
       "      <td>2016.0</td>\n",
       "      <td>640562.0</td>\n",
       "      <td>180.01</td>\n",
       "      <td>2017.0</td>\n",
       "      <td>both</td>\n",
       "    </tr>\n",
       "    <tr>\n",
       "      <th>204628</th>\n",
       "      <td>435922.0</td>\n",
       "      <td>ecrvkbfunu@gmail.com</td>\n",
       "      <td>230.49</td>\n",
       "      <td>2016.0</td>\n",
       "      <td>640568.0</td>\n",
       "      <td>205.42</td>\n",
       "      <td>2017.0</td>\n",
       "      <td>both</td>\n",
       "    </tr>\n",
       "    <tr>\n",
       "      <th>204631</th>\n",
       "      <td>435925.0</td>\n",
       "      <td>tpdtoiokyt@gmail.com</td>\n",
       "      <td>5.60</td>\n",
       "      <td>2016.0</td>\n",
       "      <td>640571.0</td>\n",
       "      <td>242.63</td>\n",
       "      <td>2017.0</td>\n",
       "      <td>both</td>\n",
       "    </tr>\n",
       "    <tr>\n",
       "      <th>204640</th>\n",
       "      <td>435934.0</td>\n",
       "      <td>dcakqgznnm@gmail.com</td>\n",
       "      <td>146.47</td>\n",
       "      <td>2016.0</td>\n",
       "      <td>640580.0</td>\n",
       "      <td>62.66</td>\n",
       "      <td>2017.0</td>\n",
       "      <td>both</td>\n",
       "    </tr>\n",
       "    <tr>\n",
       "      <th>204643</th>\n",
       "      <td>435937.0</td>\n",
       "      <td>fkweqlmmjw@gmail.com</td>\n",
       "      <td>79.71</td>\n",
       "      <td>2016.0</td>\n",
       "      <td>640583.0</td>\n",
       "      <td>21.78</td>\n",
       "      <td>2017.0</td>\n",
       "      <td>both</td>\n",
       "    </tr>\n",
       "  </tbody>\n",
       "</table>\n",
       "<p>20959 rows × 8 columns</p>\n",
       "</div>"
      ],
      "text/plain": [
       "            ID_x        customer_email  net_revenue_x  year_x      ID_y  \\\n",
       "7       231301.0  yixtbjnxce@gmail.com         201.32  2016.0  435947.0   \n",
       "13      231307.0  gwqjyelgct@gmail.com          14.62  2016.0  435953.0   \n",
       "16      231310.0  hxshgpdxtr@gmail.com         217.35  2016.0  435956.0   \n",
       "28      231322.0  gipqsrvngd@gmail.com         156.06  2016.0  435968.0   \n",
       "37      231331.0  cdvwonzpwu@gmail.com         140.43  2016.0  435977.0   \n",
       "...          ...                   ...            ...     ...       ...   \n",
       "204622  435916.0  flkeldljhv@gmail.com         211.68  2016.0  640562.0   \n",
       "204628  435922.0  ecrvkbfunu@gmail.com         230.49  2016.0  640568.0   \n",
       "204631  435925.0  tpdtoiokyt@gmail.com           5.60  2016.0  640571.0   \n",
       "204640  435934.0  dcakqgznnm@gmail.com         146.47  2016.0  640580.0   \n",
       "204643  435937.0  fkweqlmmjw@gmail.com          79.71  2016.0  640583.0   \n",
       "\n",
       "        net_revenue_y  year_y _merge  \n",
       "7              133.86  2017.0   both  \n",
       "13             164.10  2017.0   both  \n",
       "16             178.10  2017.0   both  \n",
       "28             172.90  2017.0   both  \n",
       "37             102.46  2017.0   both  \n",
       "...               ...     ...    ...  \n",
       "204622         180.01  2017.0   both  \n",
       "204628         205.42  2017.0   both  \n",
       "204631         242.63  2017.0   both  \n",
       "204640          62.66  2017.0   both  \n",
       "204643          21.78  2017.0   both  \n",
       "\n",
       "[20959 rows x 8 columns]"
      ]
     },
     "execution_count": 13,
     "metadata": {},
     "output_type": "execute_result"
    }
   ],
   "source": [
    "df_new2017"
   ]
  },
  {
   "cell_type": "code",
   "execution_count": 91,
   "id": "51f8618d",
   "metadata": {
    "scrolled": true
   },
   "outputs": [
    {
     "data": {
      "image/png": "[encoded data removed]",
      "text/plain": [
       "<Figure size 432x288 with 1 Axes>"
      ]
     },
     "metadata": {
      "needs_background": "light"
     },
     "output_type": "display_data"
    }
   ],
   "source": [
    "fig = plt.figure()\n",
    "ax = fig.add_axes([0,0,1,1])\n",
    "ax.bar(RevenueYear, Revenue)\n",
    "ax.set_ylabel('Revenue in Million')\n",
    "ax.set_xlabel('Year')\n",
    "plt.show() "
   ]
  },
  {
   "cell_type": "code",
   "execution_count": 74,
   "id": "e8edf2be",
   "metadata": {},
   "outputs": [
    {
     "data": {
      "image/png": "[encoded data removed]",
      "text/plain": [
       "<Figure size 432x288 with 1 Axes>"
      ]
     },
     "metadata": {
      "needs_background": "light"
     },
     "output_type": "display_data"
    }
   ],
   "source": [
    "X = ['2016','2017']\n",
    "X_axis = np.arange(len(X))\n",
    "  \n",
    "plt.bar(X_axis - 0.2, (len(df_newcust2016), len(df_newcust2017)), 0.4, label = 'New Customers', color=['red'])\n",
    "plt.bar(X_axis + 0.2, (len(df_year2016), len(df_year2017)), 0.4, label = 'Total Customers', color=['black'])\n",
    "  \n",
    "plt.xticks(X_axis, X)\n",
    "plt.xlabel(\"Years\")\n",
    "plt.ylabel(\"Number of Customers\")\n",
    "plt.title(\"Total Customers vs New customers by Year\")\n",
    "plt.legend()\n",
    "plt.show()"
   ]
  },
  {
   "cell_type": "code",
   "execution_count": 76,
   "id": "b4443d45",
   "metadata": {},
   "outputs": [
    {
     "data": {
      "image/png": "[encoded data removed]",
      "text/plain": [
       "<Figure size 432x288 with 1 Axes>"
      ]
     },
     "metadata": {
      "needs_background": "light"
     },
     "output_type": "display_data"
    }
   ],
   "source": [
    "X = ['2016','2017']\n",
    "X_axis = np.arange(len(X))\n",
    "  \n",
    "plt.bar(X_axis - 0.2, (Ex_custrev_2016, Ex_custrev_2017), 0.4, label = 'Existing Customer Revenue', color=['red'])\n",
    "plt.bar(X_axis + 0.2, (Revenue2016, Revenue2017), 0.4, label = 'Total Revenue', color=['black'])\n",
    "  \n",
    "plt.xticks(X_axis, X)\n",
    "plt.xlabel(\"Years\")\n",
    "plt.ylabel(\"Revenue Earned\")\n",
    "plt.title(\"Total Revenue vs Existing Customer Revenue by Year\")\n",
    "plt.legend()\n",
    "plt.show()"
   ]
  },
  {
   "cell_type": "code",
   "execution_count": 77,
   "id": "91bbc913",
   "metadata": {},
   "outputs": [
    {
     "data": {
      "image/png": "[encoded data removed]",
      "text/plain": [
       "<Figure size 432x288 with 1 Axes>"
      ]
     },
     "metadata": {
      "needs_background": "light"
     },
     "output_type": "display_data"
    }
   ],
   "source": [
    "X = ['2016','2017']\n",
    "X_axis = np.arange(len(X))\n",
    "  \n",
    "plt.bar(X_axis - 0.2, (NewCustomer_Revenue_2016, NewCustomer_Revenue_2017), 0.4, label = 'New Customer Revenue', color=['red'])\n",
    "plt.bar(X_axis + 0.2, (Revenue2016, Revenue2017), 0.4, label = 'Total Revenue', color=['black'])\n",
    "  \n",
    "plt.xticks(X_axis, X)\n",
    "plt.xlabel(\"Years\")\n",
    "plt.ylabel(\"Revenue Earned\")\n",
    "plt.title(\"Total Revenue vs New Customer Revenue by Year\")\n",
    "plt.legend()\n",
    "plt.show()"
   ]
  }
 ],
 "metadata": {
  "kernelspec": {
   "display_name": "Python 3 (ipykernel)",
   "language": "python",
   "name": "python3"
  },
  "language_info": {
   "codemirror_mode": {
    "name": "ipython",
    "version": 3
   },
   "file_extension": ".py",
   "mimetype": "text/x-python",
   "name": "python",
   "nbconvert_exporter": "python",
   "pygments_lexer": "ipython3",
   "version": "3.9.7"
  }
 },
 "nbformat": 4,
 "nbformat_minor": 5
}
